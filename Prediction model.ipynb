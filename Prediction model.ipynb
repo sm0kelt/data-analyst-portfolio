{
  "cells": [
    {
      "cell_type": "code",
      "execution_count": 243,
      "metadata": {
        "id": "6MZEvhvG-uLE"
      },
      "outputs": [],
      "source": [
        "import pandas as pd\n",
        "import numpy as np\n",
        "from keras.datasets import mnist\n",
        "from sklearn.model_selection import train_test_split\n",
        "from keras.models import Sequential\n",
        "from tensorflow.keras.layers import Bidirectional, Dropout, Activation, Dense, LSTM\n",
        "from tensorflow.python.keras.layers import CuDNNLSTM\n",
        "from keras.layers import Dropout\n",
        "from keras.layers import Dense, Activation, Flatten,Reshape"
      ]
    },
    {
      "cell_type": "code",
      "execution_count": 244,
      "metadata": {
        "id": "1K6uSP-j-uLF"
      },
      "outputs": [],
      "source": [
        "df = pd.read_csv('binance-coin_2018-03-06_2023-03-05.csv')"
      ]
    },
    {
      "cell_type": "code",
      "execution_count": 245,
      "metadata": {
        "colab": {
          "base_uri": "https://localhost:8080/",
          "height": 423
        },
        "id": "3eI1IFEO-uLG",
        "outputId": "98442779-2125-43aa-ec3e-e6a576f2822c"
      },
      "outputs": [
        {
          "output_type": "execute_result",
          "data": {
            "text/plain": [
              "             Date        Open        High         Low       Close  \\\n",
              "0     Mar-03-2023  290.578300  291.656451  287.288000  289.933827   \n",
              "1     Mar-02-2023  300.322500  300.554300  288.026200  290.413337   \n",
              "2     Mar-01-2023  303.262000  304.045000  296.833200  300.226000   \n",
              "3     Feb-28-2023  301.874550  306.442800  301.284893  303.493500   \n",
              "4     Feb-27-2023  305.127542  305.913700  300.981365  302.036278   \n",
              "...           ...         ...         ...         ...         ...   \n",
              "1820  Mar-09-2018    8.393523    8.394454    7.697779    7.741142   \n",
              "1821  Mar-08-2018    8.340532    8.374791    7.193116    8.374791   \n",
              "1822  Mar-07-2018    9.119737    9.195546    8.239773    8.371564   \n",
              "1823  Mar-06-2018    9.402097   10.195821    8.361776    9.101921   \n",
              "1824  Mar-05-2018   10.097213   10.120172    9.195412    9.369057   \n",
              "\n",
              "            Volume    Market Cap  \n",
              "0     8.864673e+08  4.647844e+10  \n",
              "1     1.312458e+09  4.651630e+10  \n",
              "2     1.091921e+09  4.793647e+10  \n",
              "3     1.081014e+09  4.855769e+10  \n",
              "4     1.132201e+09  4.858260e+10  \n",
              "...            ...           ...  \n",
              "1820  2.886964e+07  0.000000e+00  \n",
              "1821  3.573931e+07  0.000000e+00  \n",
              "1822  4.598669e+07  0.000000e+00  \n",
              "1823  3.692032e+07  0.000000e+00  \n",
              "1824  3.077267e+07  0.000000e+00  \n",
              "\n",
              "[1825 rows x 7 columns]"
            ],
            "text/html": [
              "\n",
              "  <div id=\"df-647bd4f2-35c9-4aaa-9ef0-afb2eea4e2ff\">\n",
              "    <div class=\"colab-df-container\">\n",
              "      <div>\n",
              "<style scoped>\n",
              "    .dataframe tbody tr th:only-of-type {\n",
              "        vertical-align: middle;\n",
              "    }\n",
              "\n",
              "    .dataframe tbody tr th {\n",
              "        vertical-align: top;\n",
              "    }\n",
              "\n",
              "    .dataframe thead th {\n",
              "        text-align: right;\n",
              "    }\n",
              "</style>\n",
              "<table border=\"1\" class=\"dataframe\">\n",
              "  <thead>\n",
              "    <tr style=\"text-align: right;\">\n",
              "      <th></th>\n",
              "      <th>Date</th>\n",
              "      <th>Open</th>\n",
              "      <th>High</th>\n",
              "      <th>Low</th>\n",
              "      <th>Close</th>\n",
              "      <th>Volume</th>\n",
              "      <th>Market Cap</th>\n",
              "    </tr>\n",
              "  </thead>\n",
              "  <tbody>\n",
              "    <tr>\n",
              "      <th>0</th>\n",
              "      <td>Mar-03-2023</td>\n",
              "      <td>290.578300</td>\n",
              "      <td>291.656451</td>\n",
              "      <td>287.288000</td>\n",
              "      <td>289.933827</td>\n",
              "      <td>8.864673e+08</td>\n",
              "      <td>4.647844e+10</td>\n",
              "    </tr>\n",
              "    <tr>\n",
              "      <th>1</th>\n",
              "      <td>Mar-02-2023</td>\n",
              "      <td>300.322500</td>\n",
              "      <td>300.554300</td>\n",
              "      <td>288.026200</td>\n",
              "      <td>290.413337</td>\n",
              "      <td>1.312458e+09</td>\n",
              "      <td>4.651630e+10</td>\n",
              "    </tr>\n",
              "    <tr>\n",
              "      <th>2</th>\n",
              "      <td>Mar-01-2023</td>\n",
              "      <td>303.262000</td>\n",
              "      <td>304.045000</td>\n",
              "      <td>296.833200</td>\n",
              "      <td>300.226000</td>\n",
              "      <td>1.091921e+09</td>\n",
              "      <td>4.793647e+10</td>\n",
              "    </tr>\n",
              "    <tr>\n",
              "      <th>3</th>\n",
              "      <td>Feb-28-2023</td>\n",
              "      <td>301.874550</td>\n",
              "      <td>306.442800</td>\n",
              "      <td>301.284893</td>\n",
              "      <td>303.493500</td>\n",
              "      <td>1.081014e+09</td>\n",
              "      <td>4.855769e+10</td>\n",
              "    </tr>\n",
              "    <tr>\n",
              "      <th>4</th>\n",
              "      <td>Feb-27-2023</td>\n",
              "      <td>305.127542</td>\n",
              "      <td>305.913700</td>\n",
              "      <td>300.981365</td>\n",
              "      <td>302.036278</td>\n",
              "      <td>1.132201e+09</td>\n",
              "      <td>4.858260e+10</td>\n",
              "    </tr>\n",
              "    <tr>\n",
              "      <th>...</th>\n",
              "      <td>...</td>\n",
              "      <td>...</td>\n",
              "      <td>...</td>\n",
              "      <td>...</td>\n",
              "      <td>...</td>\n",
              "      <td>...</td>\n",
              "      <td>...</td>\n",
              "    </tr>\n",
              "    <tr>\n",
              "      <th>1820</th>\n",
              "      <td>Mar-09-2018</td>\n",
              "      <td>8.393523</td>\n",
              "      <td>8.394454</td>\n",
              "      <td>7.697779</td>\n",
              "      <td>7.741142</td>\n",
              "      <td>2.886964e+07</td>\n",
              "      <td>0.000000e+00</td>\n",
              "    </tr>\n",
              "    <tr>\n",
              "      <th>1821</th>\n",
              "      <td>Mar-08-2018</td>\n",
              "      <td>8.340532</td>\n",
              "      <td>8.374791</td>\n",
              "      <td>7.193116</td>\n",
              "      <td>8.374791</td>\n",
              "      <td>3.573931e+07</td>\n",
              "      <td>0.000000e+00</td>\n",
              "    </tr>\n",
              "    <tr>\n",
              "      <th>1822</th>\n",
              "      <td>Mar-07-2018</td>\n",
              "      <td>9.119737</td>\n",
              "      <td>9.195546</td>\n",
              "      <td>8.239773</td>\n",
              "      <td>8.371564</td>\n",
              "      <td>4.598669e+07</td>\n",
              "      <td>0.000000e+00</td>\n",
              "    </tr>\n",
              "    <tr>\n",
              "      <th>1823</th>\n",
              "      <td>Mar-06-2018</td>\n",
              "      <td>9.402097</td>\n",
              "      <td>10.195821</td>\n",
              "      <td>8.361776</td>\n",
              "      <td>9.101921</td>\n",
              "      <td>3.692032e+07</td>\n",
              "      <td>0.000000e+00</td>\n",
              "    </tr>\n",
              "    <tr>\n",
              "      <th>1824</th>\n",
              "      <td>Mar-05-2018</td>\n",
              "      <td>10.097213</td>\n",
              "      <td>10.120172</td>\n",
              "      <td>9.195412</td>\n",
              "      <td>9.369057</td>\n",
              "      <td>3.077267e+07</td>\n",
              "      <td>0.000000e+00</td>\n",
              "    </tr>\n",
              "  </tbody>\n",
              "</table>\n",
              "<p>1825 rows × 7 columns</p>\n",
              "</div>\n",
              "      <button class=\"colab-df-convert\" onclick=\"convertToInteractive('df-647bd4f2-35c9-4aaa-9ef0-afb2eea4e2ff')\"\n",
              "              title=\"Convert this dataframe to an interactive table.\"\n",
              "              style=\"display:none;\">\n",
              "        \n",
              "  <svg xmlns=\"http://www.w3.org/2000/svg\" height=\"24px\"viewBox=\"0 0 24 24\"\n",
              "       width=\"24px\">\n",
              "    <path d=\"M0 0h24v24H0V0z\" fill=\"none\"/>\n",
              "    <path d=\"M18.56 5.44l.94 2.06.94-2.06 2.06-.94-2.06-.94-.94-2.06-.94 2.06-2.06.94zm-11 1L8.5 8.5l.94-2.06 2.06-.94-2.06-.94L8.5 2.5l-.94 2.06-2.06.94zm10 10l.94 2.06.94-2.06 2.06-.94-2.06-.94-.94-2.06-.94 2.06-2.06.94z\"/><path d=\"M17.41 7.96l-1.37-1.37c-.4-.4-.92-.59-1.43-.59-.52 0-1.04.2-1.43.59L10.3 9.45l-7.72 7.72c-.78.78-.78 2.05 0 2.83L4 21.41c.39.39.9.59 1.41.59.51 0 1.02-.2 1.41-.59l7.78-7.78 2.81-2.81c.8-.78.8-2.07 0-2.86zM5.41 20L4 18.59l7.72-7.72 1.47 1.35L5.41 20z\"/>\n",
              "  </svg>\n",
              "      </button>\n",
              "      \n",
              "  <style>\n",
              "    .colab-df-container {\n",
              "      display:flex;\n",
              "      flex-wrap:wrap;\n",
              "      gap: 12px;\n",
              "    }\n",
              "\n",
              "    .colab-df-convert {\n",
              "      background-color: #E8F0FE;\n",
              "      border: none;\n",
              "      border-radius: 50%;\n",
              "      cursor: pointer;\n",
              "      display: none;\n",
              "      fill: #1967D2;\n",
              "      height: 32px;\n",
              "      padding: 0 0 0 0;\n",
              "      width: 32px;\n",
              "    }\n",
              "\n",
              "    .colab-df-convert:hover {\n",
              "      background-color: #E2EBFA;\n",
              "      box-shadow: 0px 1px 2px rgba(60, 64, 67, 0.3), 0px 1px 3px 1px rgba(60, 64, 67, 0.15);\n",
              "      fill: #174EA6;\n",
              "    }\n",
              "\n",
              "    [theme=dark] .colab-df-convert {\n",
              "      background-color: #3B4455;\n",
              "      fill: #D2E3FC;\n",
              "    }\n",
              "\n",
              "    [theme=dark] .colab-df-convert:hover {\n",
              "      background-color: #434B5C;\n",
              "      box-shadow: 0px 1px 3px 1px rgba(0, 0, 0, 0.15);\n",
              "      filter: drop-shadow(0px 1px 2px rgba(0, 0, 0, 0.3));\n",
              "      fill: #FFFFFF;\n",
              "    }\n",
              "  </style>\n",
              "\n",
              "      <script>\n",
              "        const buttonEl =\n",
              "          document.querySelector('#df-647bd4f2-35c9-4aaa-9ef0-afb2eea4e2ff button.colab-df-convert');\n",
              "        buttonEl.style.display =\n",
              "          google.colab.kernel.accessAllowed ? 'block' : 'none';\n",
              "\n",
              "        async function convertToInteractive(key) {\n",
              "          const element = document.querySelector('#df-647bd4f2-35c9-4aaa-9ef0-afb2eea4e2ff');\n",
              "          const dataTable =\n",
              "            await google.colab.kernel.invokeFunction('convertToInteractive',\n",
              "                                                     [key], {});\n",
              "          if (!dataTable) return;\n",
              "\n",
              "          const docLinkHtml = 'Like what you see? Visit the ' +\n",
              "            '<a target=\"_blank\" href=https://colab.research.google.com/notebooks/data_table.ipynb>data table notebook</a>'\n",
              "            + ' to learn more about interactive tables.';\n",
              "          element.innerHTML = '';\n",
              "          dataTable['output_type'] = 'display_data';\n",
              "          await google.colab.output.renderOutput(dataTable, element);\n",
              "          const docLink = document.createElement('div');\n",
              "          docLink.innerHTML = docLinkHtml;\n",
              "          element.appendChild(docLink);\n",
              "        }\n",
              "      </script>\n",
              "    </div>\n",
              "  </div>\n",
              "  "
            ]
          },
          "metadata": {},
          "execution_count": 245
        }
      ],
      "source": [
        "df"
      ]
    },
    {
      "cell_type": "code",
      "execution_count": 246,
      "metadata": {
        "colab": {
          "base_uri": "https://localhost:8080/",
          "height": 206
        },
        "id": "fthfZthe-uLG",
        "outputId": "c1fc965c-2a03-4b0e-bf31-e3cc3fadfbfd"
      },
      "outputs": [
        {
          "output_type": "execute_result",
          "data": {
            "text/plain": [
              "          Date       Close\n",
              "0  Mar-03-2023  289.933827\n",
              "1  Mar-02-2023  290.413337\n",
              "2  Mar-01-2023  300.226000\n",
              "3  Feb-28-2023  303.493500\n",
              "4  Feb-27-2023  302.036278"
            ],
            "text/html": [
              "\n",
              "  <div id=\"df-6190ed83-11d8-49cf-956b-7ea1846ec307\">\n",
              "    <div class=\"colab-df-container\">\n",
              "      <div>\n",
              "<style scoped>\n",
              "    .dataframe tbody tr th:only-of-type {\n",
              "        vertical-align: middle;\n",
              "    }\n",
              "\n",
              "    .dataframe tbody tr th {\n",
              "        vertical-align: top;\n",
              "    }\n",
              "\n",
              "    .dataframe thead th {\n",
              "        text-align: right;\n",
              "    }\n",
              "</style>\n",
              "<table border=\"1\" class=\"dataframe\">\n",
              "  <thead>\n",
              "    <tr style=\"text-align: right;\">\n",
              "      <th></th>\n",
              "      <th>Date</th>\n",
              "      <th>Close</th>\n",
              "    </tr>\n",
              "  </thead>\n",
              "  <tbody>\n",
              "    <tr>\n",
              "      <th>0</th>\n",
              "      <td>Mar-03-2023</td>\n",
              "      <td>289.933827</td>\n",
              "    </tr>\n",
              "    <tr>\n",
              "      <th>1</th>\n",
              "      <td>Mar-02-2023</td>\n",
              "      <td>290.413337</td>\n",
              "    </tr>\n",
              "    <tr>\n",
              "      <th>2</th>\n",
              "      <td>Mar-01-2023</td>\n",
              "      <td>300.226000</td>\n",
              "    </tr>\n",
              "    <tr>\n",
              "      <th>3</th>\n",
              "      <td>Feb-28-2023</td>\n",
              "      <td>303.493500</td>\n",
              "    </tr>\n",
              "    <tr>\n",
              "      <th>4</th>\n",
              "      <td>Feb-27-2023</td>\n",
              "      <td>302.036278</td>\n",
              "    </tr>\n",
              "  </tbody>\n",
              "</table>\n",
              "</div>\n",
              "      <button class=\"colab-df-convert\" onclick=\"convertToInteractive('df-6190ed83-11d8-49cf-956b-7ea1846ec307')\"\n",
              "              title=\"Convert this dataframe to an interactive table.\"\n",
              "              style=\"display:none;\">\n",
              "        \n",
              "  <svg xmlns=\"http://www.w3.org/2000/svg\" height=\"24px\"viewBox=\"0 0 24 24\"\n",
              "       width=\"24px\">\n",
              "    <path d=\"M0 0h24v24H0V0z\" fill=\"none\"/>\n",
              "    <path d=\"M18.56 5.44l.94 2.06.94-2.06 2.06-.94-2.06-.94-.94-2.06-.94 2.06-2.06.94zm-11 1L8.5 8.5l.94-2.06 2.06-.94-2.06-.94L8.5 2.5l-.94 2.06-2.06.94zm10 10l.94 2.06.94-2.06 2.06-.94-2.06-.94-.94-2.06-.94 2.06-2.06.94z\"/><path d=\"M17.41 7.96l-1.37-1.37c-.4-.4-.92-.59-1.43-.59-.52 0-1.04.2-1.43.59L10.3 9.45l-7.72 7.72c-.78.78-.78 2.05 0 2.83L4 21.41c.39.39.9.59 1.41.59.51 0 1.02-.2 1.41-.59l7.78-7.78 2.81-2.81c.8-.78.8-2.07 0-2.86zM5.41 20L4 18.59l7.72-7.72 1.47 1.35L5.41 20z\"/>\n",
              "  </svg>\n",
              "      </button>\n",
              "      \n",
              "  <style>\n",
              "    .colab-df-container {\n",
              "      display:flex;\n",
              "      flex-wrap:wrap;\n",
              "      gap: 12px;\n",
              "    }\n",
              "\n",
              "    .colab-df-convert {\n",
              "      background-color: #E8F0FE;\n",
              "      border: none;\n",
              "      border-radius: 50%;\n",
              "      cursor: pointer;\n",
              "      display: none;\n",
              "      fill: #1967D2;\n",
              "      height: 32px;\n",
              "      padding: 0 0 0 0;\n",
              "      width: 32px;\n",
              "    }\n",
              "\n",
              "    .colab-df-convert:hover {\n",
              "      background-color: #E2EBFA;\n",
              "      box-shadow: 0px 1px 2px rgba(60, 64, 67, 0.3), 0px 1px 3px 1px rgba(60, 64, 67, 0.15);\n",
              "      fill: #174EA6;\n",
              "    }\n",
              "\n",
              "    [theme=dark] .colab-df-convert {\n",
              "      background-color: #3B4455;\n",
              "      fill: #D2E3FC;\n",
              "    }\n",
              "\n",
              "    [theme=dark] .colab-df-convert:hover {\n",
              "      background-color: #434B5C;\n",
              "      box-shadow: 0px 1px 3px 1px rgba(0, 0, 0, 0.15);\n",
              "      filter: drop-shadow(0px 1px 2px rgba(0, 0, 0, 0.3));\n",
              "      fill: #FFFFFF;\n",
              "    }\n",
              "  </style>\n",
              "\n",
              "      <script>\n",
              "        const buttonEl =\n",
              "          document.querySelector('#df-6190ed83-11d8-49cf-956b-7ea1846ec307 button.colab-df-convert');\n",
              "        buttonEl.style.display =\n",
              "          google.colab.kernel.accessAllowed ? 'block' : 'none';\n",
              "\n",
              "        async function convertToInteractive(key) {\n",
              "          const element = document.querySelector('#df-6190ed83-11d8-49cf-956b-7ea1846ec307');\n",
              "          const dataTable =\n",
              "            await google.colab.kernel.invokeFunction('convertToInteractive',\n",
              "                                                     [key], {});\n",
              "          if (!dataTable) return;\n",
              "\n",
              "          const docLinkHtml = 'Like what you see? Visit the ' +\n",
              "            '<a target=\"_blank\" href=https://colab.research.google.com/notebooks/data_table.ipynb>data table notebook</a>'\n",
              "            + ' to learn more about interactive tables.';\n",
              "          element.innerHTML = '';\n",
              "          dataTable['output_type'] = 'display_data';\n",
              "          await google.colab.output.renderOutput(dataTable, element);\n",
              "          const docLink = document.createElement('div');\n",
              "          docLink.innerHTML = docLinkHtml;\n",
              "          element.appendChild(docLink);\n",
              "        }\n",
              "      </script>\n",
              "    </div>\n",
              "  </div>\n",
              "  "
            ]
          },
          "metadata": {},
          "execution_count": 246
        }
      ],
      "source": [
        "df = df[['Date', 'Close']]\n",
        "df.head()"
      ]
    },
    {
      "cell_type": "code",
      "execution_count": 247,
      "metadata": {
        "colab": {
          "base_uri": "https://localhost:8080/"
        },
        "id": "ciTT0ALr-uLG",
        "outputId": "b69eda4e-f319-4fde-986f-bb20161c8246"
      },
      "outputs": [
        {
          "output_type": "execute_result",
          "data": {
            "text/plain": [
              "Date      object\n",
              "Close    float64\n",
              "dtype: object"
            ]
          },
          "metadata": {},
          "execution_count": 247
        }
      ],
      "source": [
        "df.dtypes"
      ]
    },
    {
      "cell_type": "code",
      "execution_count": 248,
      "metadata": {
        "id": "gtyBXf3K-uLH"
      },
      "outputs": [],
      "source": [
        "month_dict = {'Jan': '01', 'Feb': '02', 'Mar': '03', 'Apr': '04',\n",
        "              'May': '05', 'Jun': '06', 'Jul': '07', 'Aug': '08',\n",
        "              'Sep': '09', 'Oct': '10', 'Nov': '11', 'Dec': '12'}\n"
      ]
    },
    {
      "cell_type": "code",
      "execution_count": 249,
      "metadata": {
        "id": "eMf2v84m-uLH"
      },
      "outputs": [],
      "source": [
        "df = df.replace({'Jan': '01', 'Feb': '02', 'Mar': '03', 'Apr': '04',\n",
        "              'May': '05', 'Jun': '06', 'Jul': '07', 'Aug': '08',\n",
        "              'Sep': '09', 'Oct': '10', 'Nov': '11', 'Dec': '12'}, regex = True)\n"
      ]
    },
    {
      "cell_type": "code",
      "execution_count": 250,
      "metadata": {
        "colab": {
          "base_uri": "https://localhost:8080/",
          "height": 423
        },
        "id": "g1Rza1_x-uLH",
        "outputId": "bdf063f7-46bc-4d5c-cda1-aec9550127d5"
      },
      "outputs": [
        {
          "output_type": "execute_result",
          "data": {
            "text/plain": [
              "            Date       Close\n",
              "0     03-03-2023  289.933827\n",
              "1     03-02-2023  290.413337\n",
              "2     03-01-2023  300.226000\n",
              "3     02-28-2023  303.493500\n",
              "4     02-27-2023  302.036278\n",
              "...          ...         ...\n",
              "1820  03-09-2018    7.741142\n",
              "1821  03-08-2018    8.374791\n",
              "1822  03-07-2018    8.371564\n",
              "1823  03-06-2018    9.101921\n",
              "1824  03-05-2018    9.369057\n",
              "\n",
              "[1825 rows x 2 columns]"
            ],
            "text/html": [
              "\n",
              "  <div id=\"df-89ee0d85-7d01-4b0a-8739-f5d89aa21c1c\">\n",
              "    <div class=\"colab-df-container\">\n",
              "      <div>\n",
              "<style scoped>\n",
              "    .dataframe tbody tr th:only-of-type {\n",
              "        vertical-align: middle;\n",
              "    }\n",
              "\n",
              "    .dataframe tbody tr th {\n",
              "        vertical-align: top;\n",
              "    }\n",
              "\n",
              "    .dataframe thead th {\n",
              "        text-align: right;\n",
              "    }\n",
              "</style>\n",
              "<table border=\"1\" class=\"dataframe\">\n",
              "  <thead>\n",
              "    <tr style=\"text-align: right;\">\n",
              "      <th></th>\n",
              "      <th>Date</th>\n",
              "      <th>Close</th>\n",
              "    </tr>\n",
              "  </thead>\n",
              "  <tbody>\n",
              "    <tr>\n",
              "      <th>0</th>\n",
              "      <td>03-03-2023</td>\n",
              "      <td>289.933827</td>\n",
              "    </tr>\n",
              "    <tr>\n",
              "      <th>1</th>\n",
              "      <td>03-02-2023</td>\n",
              "      <td>290.413337</td>\n",
              "    </tr>\n",
              "    <tr>\n",
              "      <th>2</th>\n",
              "      <td>03-01-2023</td>\n",
              "      <td>300.226000</td>\n",
              "    </tr>\n",
              "    <tr>\n",
              "      <th>3</th>\n",
              "      <td>02-28-2023</td>\n",
              "      <td>303.493500</td>\n",
              "    </tr>\n",
              "    <tr>\n",
              "      <th>4</th>\n",
              "      <td>02-27-2023</td>\n",
              "      <td>302.036278</td>\n",
              "    </tr>\n",
              "    <tr>\n",
              "      <th>...</th>\n",
              "      <td>...</td>\n",
              "      <td>...</td>\n",
              "    </tr>\n",
              "    <tr>\n",
              "      <th>1820</th>\n",
              "      <td>03-09-2018</td>\n",
              "      <td>7.741142</td>\n",
              "    </tr>\n",
              "    <tr>\n",
              "      <th>1821</th>\n",
              "      <td>03-08-2018</td>\n",
              "      <td>8.374791</td>\n",
              "    </tr>\n",
              "    <tr>\n",
              "      <th>1822</th>\n",
              "      <td>03-07-2018</td>\n",
              "      <td>8.371564</td>\n",
              "    </tr>\n",
              "    <tr>\n",
              "      <th>1823</th>\n",
              "      <td>03-06-2018</td>\n",
              "      <td>9.101921</td>\n",
              "    </tr>\n",
              "    <tr>\n",
              "      <th>1824</th>\n",
              "      <td>03-05-2018</td>\n",
              "      <td>9.369057</td>\n",
              "    </tr>\n",
              "  </tbody>\n",
              "</table>\n",
              "<p>1825 rows × 2 columns</p>\n",
              "</div>\n",
              "      <button class=\"colab-df-convert\" onclick=\"convertToInteractive('df-89ee0d85-7d01-4b0a-8739-f5d89aa21c1c')\"\n",
              "              title=\"Convert this dataframe to an interactive table.\"\n",
              "              style=\"display:none;\">\n",
              "        \n",
              "  <svg xmlns=\"http://www.w3.org/2000/svg\" height=\"24px\"viewBox=\"0 0 24 24\"\n",
              "       width=\"24px\">\n",
              "    <path d=\"M0 0h24v24H0V0z\" fill=\"none\"/>\n",
              "    <path d=\"M18.56 5.44l.94 2.06.94-2.06 2.06-.94-2.06-.94-.94-2.06-.94 2.06-2.06.94zm-11 1L8.5 8.5l.94-2.06 2.06-.94-2.06-.94L8.5 2.5l-.94 2.06-2.06.94zm10 10l.94 2.06.94-2.06 2.06-.94-2.06-.94-.94-2.06-.94 2.06-2.06.94z\"/><path d=\"M17.41 7.96l-1.37-1.37c-.4-.4-.92-.59-1.43-.59-.52 0-1.04.2-1.43.59L10.3 9.45l-7.72 7.72c-.78.78-.78 2.05 0 2.83L4 21.41c.39.39.9.59 1.41.59.51 0 1.02-.2 1.41-.59l7.78-7.78 2.81-2.81c.8-.78.8-2.07 0-2.86zM5.41 20L4 18.59l7.72-7.72 1.47 1.35L5.41 20z\"/>\n",
              "  </svg>\n",
              "      </button>\n",
              "      \n",
              "  <style>\n",
              "    .colab-df-container {\n",
              "      display:flex;\n",
              "      flex-wrap:wrap;\n",
              "      gap: 12px;\n",
              "    }\n",
              "\n",
              "    .colab-df-convert {\n",
              "      background-color: #E8F0FE;\n",
              "      border: none;\n",
              "      border-radius: 50%;\n",
              "      cursor: pointer;\n",
              "      display: none;\n",
              "      fill: #1967D2;\n",
              "      height: 32px;\n",
              "      padding: 0 0 0 0;\n",
              "      width: 32px;\n",
              "    }\n",
              "\n",
              "    .colab-df-convert:hover {\n",
              "      background-color: #E2EBFA;\n",
              "      box-shadow: 0px 1px 2px rgba(60, 64, 67, 0.3), 0px 1px 3px 1px rgba(60, 64, 67, 0.15);\n",
              "      fill: #174EA6;\n",
              "    }\n",
              "\n",
              "    [theme=dark] .colab-df-convert {\n",
              "      background-color: #3B4455;\n",
              "      fill: #D2E3FC;\n",
              "    }\n",
              "\n",
              "    [theme=dark] .colab-df-convert:hover {\n",
              "      background-color: #434B5C;\n",
              "      box-shadow: 0px 1px 3px 1px rgba(0, 0, 0, 0.15);\n",
              "      filter: drop-shadow(0px 1px 2px rgba(0, 0, 0, 0.3));\n",
              "      fill: #FFFFFF;\n",
              "    }\n",
              "  </style>\n",
              "\n",
              "      <script>\n",
              "        const buttonEl =\n",
              "          document.querySelector('#df-89ee0d85-7d01-4b0a-8739-f5d89aa21c1c button.colab-df-convert');\n",
              "        buttonEl.style.display =\n",
              "          google.colab.kernel.accessAllowed ? 'block' : 'none';\n",
              "\n",
              "        async function convertToInteractive(key) {\n",
              "          const element = document.querySelector('#df-89ee0d85-7d01-4b0a-8739-f5d89aa21c1c');\n",
              "          const dataTable =\n",
              "            await google.colab.kernel.invokeFunction('convertToInteractive',\n",
              "                                                     [key], {});\n",
              "          if (!dataTable) return;\n",
              "\n",
              "          const docLinkHtml = 'Like what you see? Visit the ' +\n",
              "            '<a target=\"_blank\" href=https://colab.research.google.com/notebooks/data_table.ipynb>data table notebook</a>'\n",
              "            + ' to learn more about interactive tables.';\n",
              "          element.innerHTML = '';\n",
              "          dataTable['output_type'] = 'display_data';\n",
              "          await google.colab.output.renderOutput(dataTable, element);\n",
              "          const docLink = document.createElement('div');\n",
              "          docLink.innerHTML = docLinkHtml;\n",
              "          element.appendChild(docLink);\n",
              "        }\n",
              "      </script>\n",
              "    </div>\n",
              "  </div>\n",
              "  "
            ]
          },
          "metadata": {},
          "execution_count": 250
        }
      ],
      "source": [
        "df"
      ]
    },
    {
      "cell_type": "code",
      "execution_count": 256,
      "metadata": {
        "id": "8YxdSczE-uLI"
      },
      "outputs": [],
      "source": [
        "df['Date'] = pd.to_datetime(df['Date'])"
      ]
    },
    {
      "cell_type": "code",
      "execution_count": 257,
      "metadata": {
        "colab": {
          "base_uri": "https://localhost:8080/",
          "height": 533
        },
        "id": "G845s1Fl-uLJ",
        "outputId": "dccecb48-0371-42b2-bc72-6950db529f73"
      },
      "outputs": [
        {
          "output_type": "execute_result",
          "data": {
            "text/plain": [
              "Text(0, 0.5, 'Close Price (USD)')"
            ]
          },
          "metadata": {},
          "execution_count": 257
        },
        {
          "output_type": "display_data",
          "data": {
            "text/plain": [
              "<Figure size 1008x576 with 1 Axes>"
            ],
            "image/png": "[encoded data removed]"
          },
          "metadata": {}
        }
      ],
      "source": [
        "ax = df.plot(x='Date', y='Close');\n",
        "ax.set_xlabel(\"Date\")\n",
        "ax.set_ylabel(\"Close Price (USD)\")"
      ]
    },
    {
      "cell_type": "code",
      "source": [
        "sc = MinMaxScaler()\n",
        "\n",
        "close_price = df.Close.values.reshape(-1, 1)\n",
        "\n",
        "scaled_close = sc.fit_transform(close_price)"
      ],
      "metadata": {
        "id": "TRKcVxbndWxE"
      },
      "execution_count": 202,
      "outputs": []
    },
    {
      "cell_type": "code",
      "source": [
        "SEQ_LEN = 100\n",
        "\n",
        "def to_sequences(data, seq_len):\n",
        "    d = []\n",
        "\n",
        "    for index in range(len(data) - seq_len):\n",
        "        d.append(data[index: index + seq_len])\n",
        "\n",
        "    return np.array(d)\n",
        "\n",
        "def preprocess(data_raw, seq_len, train_split):\n",
        "\n",
        "    data = to_sequences(data_raw, seq_len)\n",
        "\n",
        "    num_train = int(train_split * data.shape[0])\n",
        "\n",
        "    X_train = data[:num_train, :-1, :]\n",
        "    y_train = data[:num_train, -1, :]\n",
        "\n",
        "    X_test = data[num_train:, :-1, :]\n",
        "    y_test = data[num_train:, -1, :]\n",
        "\n",
        "    return X_train, y_train, X_test, y_test\n",
        "\n",
        "\n",
        "X_train, y_train, X_test, y_test = preprocess(scaled_close, SEQ_LEN, train_split = 0.95)\n",
        "\n"
      ],
      "metadata": {
        "id": "voM72lhkGRbB"
      },
      "execution_count": 127,
      "outputs": []
    },
    {
      "cell_type": "code",
      "source": [
        "X_train.shape"
      ],
      "metadata": {
        "colab": {
          "base_uri": "https://localhost:8080/"
        },
        "id": "rx_YOjaSMeTM",
        "outputId": "2566144d-1120-48bf-c2e5-a23479c710a5"
      },
      "execution_count": 128,
      "outputs": [
        {
          "output_type": "execute_result",
          "data": {
            "text/plain": [
              "(1638, 99, 1)"
            ]
          },
          "metadata": {},
          "execution_count": 128
        }
      ]
    },
    {
      "cell_type": "code",
      "source": [
        "X_test.shape"
      ],
      "metadata": {
        "colab": {
          "base_uri": "https://localhost:8080/"
        },
        "id": "zQ1CAM9BMgWs",
        "outputId": "56f7f7ee-18cd-480b-8c14-1c5737759c5a"
      },
      "execution_count": 129,
      "outputs": [
        {
          "output_type": "execute_result",
          "data": {
            "text/plain": [
              "(87, 99, 1)"
            ]
          },
          "metadata": {},
          "execution_count": 129
        }
      ]
    },
    {
      "cell_type": "code",
      "source": [
        "bidirectional_layer = tf.keras.layers.Bidirectional"
      ],
      "metadata": {
        "id": "oJ0m0JB0PlTh"
      },
      "execution_count": 147,
      "outputs": []
    },
    {
      "cell_type": "code",
      "source": [
        "tf.keras.layers.Layer"
      ],
      "metadata": {
        "colab": {
          "base_uri": "https://localhost:8080/"
        },
        "id": "ivTwJbE-Qhip",
        "outputId": "788df016-762f-497f-9540-98d19463dcaf"
      },
      "execution_count": 155,
      "outputs": [
        {
          "output_type": "execute_result",
          "data": {
            "text/plain": [
              "keras.engine.base_layer.Layer"
            ]
          },
          "metadata": {},
          "execution_count": 155
        }
      ]
    },
    {
      "cell_type": "code",
      "source": [
        "\n",
        "regressor = Sequential()\n",
        "\n",
        "regressor.add(LSTM(units = 50, return_sequences = True, input_shape = (X_train.shape[1], 1)))\n",
        "regressor.add(Dropout(0.2))\n",
        "\n",
        "regressor.add(LSTM(units = 50, return_sequences = True))\n",
        "regressor.add(Dropout(0.2))\n",
        "\n",
        "regressor.add(LSTM(units = 50, return_sequences = True))\n",
        "regressor.add(Dropout(0.2))\n",
        "\n",
        "regressor.add(LSTM(units = 50))\n",
        "regressor.add(Dropout(0.2))\n",
        "\n",
        "regressor.add(Dense(units = 1))\n",
        "\n",
        "regressor.compile(optimizer = 'adam', loss = 'mean_squared_error')\n",
        "\n",
        "regressor.fit(X_train, y_train, epochs = 50, batch_size = 32)\n"
      ],
      "metadata": {
        "colab": {
          "base_uri": "https://localhost:8080/"
        },
        "id": "4IIf9UpBM-92",
        "outputId": "3744217a-dd74-4367-e4d7-344ce6ce42b0"
      },
      "execution_count": 188,
      "outputs": [
        {
          "output_type": "stream",
          "name": "stdout",
          "text": [
            "Epoch 1/50\n",
            "52/52 [==============================] - 24s 245ms/step - loss: 0.0177\n",
            "Epoch 2/50\n",
            "52/52 [==============================] - 14s 262ms/step - loss: 0.0054\n",
            "Epoch 3/50\n",
            "52/52 [==============================] - 13s 250ms/step - loss: 0.0052\n",
            "Epoch 4/50\n",
            "52/52 [==============================] - 13s 250ms/step - loss: 0.0037\n",
            "Epoch 5/50\n",
            "52/52 [==============================] - 13s 250ms/step - loss: 0.0042\n",
            "Epoch 6/50\n",
            "52/52 [==============================] - 13s 253ms/step - loss: 0.0045\n",
            "Epoch 7/50\n",
            "52/52 [==============================] - 13s 252ms/step - loss: 0.0038\n",
            "Epoch 8/50\n",
            "52/52 [==============================] - 13s 253ms/step - loss: 0.0038\n",
            "Epoch 9/50\n",
            "52/52 [==============================] - 13s 252ms/step - loss: 0.0034\n",
            "Epoch 10/50\n",
            "52/52 [==============================] - 13s 252ms/step - loss: 0.0038\n",
            "Epoch 11/50\n",
            "52/52 [==============================] - 13s 250ms/step - loss: 0.0033\n",
            "Epoch 12/50\n",
            "52/52 [==============================] - 13s 253ms/step - loss: 0.0034\n",
            "Epoch 13/50\n",
            "52/52 [==============================] - 13s 252ms/step - loss: 0.0026\n",
            "Epoch 14/50\n",
            "52/52 [==============================] - 13s 255ms/step - loss: 0.0029\n",
            "Epoch 15/50\n",
            "52/52 [==============================] - 13s 257ms/step - loss: 0.0028\n",
            "Epoch 16/50\n",
            "52/52 [==============================] - 13s 254ms/step - loss: 0.0025\n",
            "Epoch 17/50\n",
            "52/52 [==============================] - 13s 258ms/step - loss: 0.0032\n",
            "Epoch 18/50\n",
            "52/52 [==============================] - 13s 257ms/step - loss: 0.0027\n",
            "Epoch 19/50\n",
            "52/52 [==============================] - 13s 259ms/step - loss: 0.0024\n",
            "Epoch 20/50\n",
            "52/52 [==============================] - 13s 257ms/step - loss: 0.0024\n",
            "Epoch 21/50\n",
            "52/52 [==============================] - 14s 260ms/step - loss: 0.0024\n",
            "Epoch 22/50\n",
            "52/52 [==============================] - 13s 259ms/step - loss: 0.0024\n",
            "Epoch 23/50\n",
            "52/52 [==============================] - 13s 259ms/step - loss: 0.0022\n",
            "Epoch 24/50\n",
            "52/52 [==============================] - 13s 259ms/step - loss: 0.0022\n",
            "Epoch 25/50\n",
            "52/52 [==============================] - 14s 262ms/step - loss: 0.0024\n",
            "Epoch 26/50\n",
            "52/52 [==============================] - 13s 256ms/step - loss: 0.0021\n",
            "Epoch 27/50\n",
            "52/52 [==============================] - 13s 256ms/step - loss: 0.0021\n",
            "Epoch 28/50\n",
            "52/52 [==============================] - 13s 259ms/step - loss: 0.0019\n",
            "Epoch 29/50\n",
            "52/52 [==============================] - 13s 257ms/step - loss: 0.0021\n",
            "Epoch 30/50\n",
            "52/52 [==============================] - 13s 255ms/step - loss: 0.0020\n",
            "Epoch 31/50\n",
            "52/52 [==============================] - 13s 258ms/step - loss: 0.0021\n",
            "Epoch 32/50\n",
            "52/52 [==============================] - 13s 259ms/step - loss: 0.0019\n",
            "Epoch 33/50\n",
            "52/52 [==============================] - 13s 254ms/step - loss: 0.0024\n",
            "Epoch 34/50\n",
            "52/52 [==============================] - 13s 256ms/step - loss: 0.0019\n",
            "Epoch 35/50\n",
            "52/52 [==============================] - 13s 256ms/step - loss: 0.0018\n",
            "Epoch 36/50\n",
            "52/52 [==============================] - 13s 253ms/step - loss: 0.0019\n",
            "Epoch 37/50\n",
            "52/52 [==============================] - 13s 254ms/step - loss: 0.0020\n",
            "Epoch 38/50\n",
            "52/52 [==============================] - 14s 259ms/step - loss: 0.0018\n",
            "Epoch 39/50\n",
            "52/52 [==============================] - 13s 255ms/step - loss: 0.0019\n",
            "Epoch 40/50\n",
            "52/52 [==============================] - 13s 250ms/step - loss: 0.0017\n",
            "Epoch 41/50\n",
            "52/52 [==============================] - 13s 257ms/step - loss: 0.0018\n",
            "Epoch 42/50\n",
            "52/52 [==============================] - 13s 255ms/step - loss: 0.0019\n",
            "Epoch 43/50\n",
            "52/52 [==============================] - 13s 254ms/step - loss: 0.0017\n",
            "Epoch 44/50\n",
            "52/52 [==============================] - 13s 251ms/step - loss: 0.0017\n",
            "Epoch 45/50\n",
            "52/52 [==============================] - 13s 252ms/step - loss: 0.0017\n",
            "Epoch 46/50\n",
            "52/52 [==============================] - 13s 252ms/step - loss: 0.0017\n",
            "Epoch 47/50\n",
            "52/52 [==============================] - 13s 251ms/step - loss: 0.0018\n",
            "Epoch 48/50\n",
            "52/52 [==============================] - 13s 251ms/step - loss: 0.0022\n",
            "Epoch 49/50\n",
            "52/52 [==============================] - 13s 252ms/step - loss: 0.0016\n",
            "Epoch 50/50\n",
            "52/52 [==============================] - 13s 253ms/step - loss: 0.0018\n"
          ]
        },
        {
          "output_type": "execute_result",
          "data": {
            "text/plain": [
              "<keras.callbacks.History at 0x7fec86f3a190>"
            ]
          },
          "metadata": {},
          "execution_count": 188
        }
      ]
    },
    {
      "cell_type": "code",
      "source": [
        "model.evaluate(X_test, y_test)"
      ],
      "metadata": {
        "colab": {
          "base_uri": "https://localhost:8080/"
        },
        "id": "fVi8188PV4BQ",
        "outputId": "b86c37df-6063-4186-afb1-238c723f763b"
      },
      "execution_count": 192,
      "outputs": [
        {
          "output_type": "stream",
          "name": "stdout",
          "text": [
            "3/3 [==============================] - 0s 61ms/step - loss: 0.0328\n"
          ]
        },
        {
          "output_type": "execute_result",
          "data": {
            "text/plain": [
              "0.032824065536260605"
            ]
          },
          "metadata": {},
          "execution_count": 192
        }
      ]
    },
    {
      "cell_type": "code",
      "source": [
        "plt.plot(history.history['loss'])\n",
        "plt.plot(history.history['val_loss'])\n",
        "plt.title('model loss')\n",
        "plt.ylabel('loss')\n",
        "plt.xlabel('epoch')\n",
        "plt.legend(['train', 'test'], loc='upper left')\n",
        "plt.show()"
      ],
      "metadata": {
        "colab": {
          "base_uri": "https://localhost:8080/",
          "height": 535
        },
        "id": "4SFtDdXjWBXf",
        "outputId": "4d3187b3-bfc2-419e-98a7-8988ee2d84f2"
      },
      "execution_count": 193,
      "outputs": [
        {
          "output_type": "display_data",
          "data": {
            "text/plain": [
              "<Figure size 1008x576 with 1 Axes>"
            ],
            "image/png": "[encoded data removed]"
          },
          "metadata": {}
        }
      ]
    },
    {
      "cell_type": "code",
      "source": [
        "y_hat = model.predict(X_test)"
      ],
      "metadata": {
        "colab": {
          "base_uri": "https://localhost:8080/"
        },
        "id": "630BNafTWEg-",
        "outputId": "10ccdda7-a8d8-45d5-bad8-a6fad9c631cc"
      },
      "execution_count": 194,
      "outputs": [
        {
          "output_type": "stream",
          "name": "stdout",
          "text": [
            "3/3 [==============================] - 0s 61ms/step\n"
          ]
        }
      ]
    },
    {
      "cell_type": "code",
      "source": [
        "dataset_test = pd.read_csv('binance-coin_2018-03-06_2023-03-05.csv')\n",
        "real_price = dataset_test.loc[:,'Close'].values"
      ],
      "metadata": {
        "id": "igfYpNhBciEb"
      },
      "execution_count": 240,
      "outputs": []
    },
    {
      "cell_type": "code",
      "source": [
        "dataset_total = pd.concat((dataset_test['Open'], dataset_test['Open']), axis = 0)\n",
        "\n",
        "inputs = dataset_total[len(dataset_total) - len(dataset_test) - 60:].values\n",
        "inputs = inputs.reshape(-1,1)\n",
        "inputs = sc.transform(inputs)\n",
        "X_test = []\n",
        "for i in range(99, 175):\n",
        "    X_test.append(inputs[i-99:i, 0])\n",
        "X_test = np.array(X_test)\n",
        "X_test = np.reshape(X_test, (X_test.shape[0], X_test.shape[1], 1))\n",
        "\n",
        "predicted_price = regressor.predict(X_test)\n",
        "predicted_price = sc.inverse_transform(predicted_price)"
      ],
      "metadata": {
        "colab": {
          "base_uri": "https://localhost:8080/"
        },
        "id": "Aqf6DVABcrlZ",
        "outputId": "f8028542-a7f3-4473-e70e-87c91763bf57"
      },
      "execution_count": 254,
      "outputs": [
        {
          "output_type": "stream",
          "name": "stdout",
          "text": [
            "3/3 [==============================] - 0s 51ms/step\n"
          ]
        }
      ]
    },
    {
      "cell_type": "code",
      "source": [
        "plt.plot(predicted_price, color = 'black', label = 'BNB Price')\n",
        "plt.plot(predicted_price, color = 'green', label = 'Predicted Bnb  Price')\n",
        "plt.title('BNB Price Prediction')\n",
        "plt.xlabel('Time')\n",
        "plt.ylabel('BNB Price')\n",
        "plt.legend()\n",
        "plt.show()"
      ],
      "metadata": {
        "colab": {
          "base_uri": "https://localhost:8080/",
          "height": 535
        },
        "id": "-5XDNXJYfI2n",
        "outputId": "255d55fd-b3f9-41fd-aa94-c4589ac1902c"
      },
      "execution_count": 258,
      "outputs": [
        {
          "output_type": "display_data",
          "data": {
            "text/plain": [
              "<Figure size 1008x576 with 1 Axes>"
            ],
            "image/png": "[encoded data removed]"
          },
          "metadata": {}
        }
      ]
    },
    {
      "cell_type": "code",
      "source": [
        "ax = df.plot(x='Date', y='Close');\n",
        "ax.set_xlabel(\"Date\")\n",
        "ax.set_ylabel(\"Close Price (USD)\")"
      ],
      "metadata": {
        "id": "FS4wKsNjh8VS"
      },
      "execution_count": null,
      "outputs": []
    }
  ],
  "metadata": {
    "kernelspec": {
      "display_name": "Python 3",
      "language": "python",
      "name": "python3"
    },
    "language_info": {
      "codemirror_mode": {
        "name": "ipython",
        "version": 3
      },
      "file_extension": ".py",
      "mimetype": "text/x-python",
      "name": "python",
      "nbconvert_exporter": "python",
      "pygments_lexer": "ipython3",
      "version": "3.8.5"
    },
    "colab": {
      "provenance": []
    }
  },
  "nbformat": 4,
  "nbformat_minor": 0
}